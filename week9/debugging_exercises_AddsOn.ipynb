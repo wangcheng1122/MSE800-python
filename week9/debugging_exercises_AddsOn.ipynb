{
 "cells": [
  {
   "cell_type": "markdown",
   "id": "73afa10f",
   "metadata": {},
   "source": [
    "# Debugging Exercises\n",
    "---\n",
    "## Solve these debugging problems!"
   ]
  },
  {
   "cell_type": "markdown",
   "id": "a7da7e1d",
   "metadata": {},
   "source": [
    "## Instructions\n",
    "Each of the following exercises contains a bug. Your task is to:\n",
    "1. Identify the bug.\n",
    "2. Use debugging techniques (print, `pdb`, logging) to find the issue.\n",
    "3. Fix the issue and ensure the function runs correctly.\n",
    "Let's get started!\n"
   ]
  },
  {
   "cell_type": "markdown",
   "id": "fce7bf94",
   "metadata": {},
   "source": [
    "### Exercise 1: Off-by-One Error"
   ]
  },
  {
   "cell_type": "code",
   "id": "e02fb0d9",
   "metadata": {
    "ExecuteTime": {
     "end_time": "2025-02-03T01:02:56.420150Z",
     "start_time": "2025-02-03T01:02:56.415057Z"
    }
   },
   "source": [
    "# This function should return the sum of numbers from 1 to n\n",
    "def sum_numbers(n):\n",
    "    total = 0\n",
    "    for i in range(1, n):  # Bug: This excludes n\n",
    "        total += i\n",
    "    return total\n",
    "\n",
    "\n",
    "print(sum_numbers(6))  # Expected output: 15, but it returns 10"
   ],
   "outputs": [
    {
     "name": "stdout",
     "output_type": "stream",
     "text": [
      "15\n"
     ]
    }
   ],
   "execution_count": 5
  },
  {
   "cell_type": "markdown",
   "id": "3fb8c05d",
   "metadata": {},
   "source": [
    "### Exercise 2: List Index Error"
   ]
  },
  {
   "cell_type": "code",
   "id": "9f3ff5ce",
   "metadata": {
    "ExecuteTime": {
     "end_time": "2025-02-03T01:07:53.382291Z",
     "start_time": "2025-02-03T01:07:53.378280Z"
    }
   },
   "source": [
    "# This function should return the last item in a list\n",
    "def get_last_item(lst):\n",
    "    return lst[len(lst)-1]  # Bug: Index should be len(lst) - 1\n",
    "\n",
    "\n",
    "print(get_last_item([1, 2, 3]))  # Expected output: 3, but causes an error"
   ],
   "outputs": [
    {
     "name": "stdout",
     "output_type": "stream",
     "text": [
      "3\n"
     ]
    }
   ],
   "execution_count": 9
  },
  {
   "cell_type": "markdown",
   "id": "2dd95c90",
   "metadata": {},
   "source": [
    "### Exercise 3: String Concatenation Error"
   ]
  },
  {
   "cell_type": "code",
   "id": "f727d0c0",
   "metadata": {
    "ExecuteTime": {
     "end_time": "2025-02-03T01:08:51.251595Z",
     "start_time": "2025-02-03T01:08:51.246797Z"
    }
   },
   "source": [
    "# This function should return a formatted string\n",
    "def greet_user(name, age):\n",
    "    return 'Hello ' + name + ', you are ' + age + ' years old.'  # Bug: age is an integer\n",
    "\n",
    "\n",
    "print(greet_user('Alice', '25'))  # Expected output: 'Hello Alice, you are 25 years old.', but causes an error"
   ],
   "outputs": [
    {
     "name": "stdout",
     "output_type": "stream",
     "text": [
      "Hello Alice, you are 25 years old.\n"
     ]
    }
   ],
   "execution_count": 11
  },
  {
   "cell_type": "markdown",
   "id": "e45924b6",
   "metadata": {},
   "source": [
    "### Exercise 4: Division by Zero"
   ]
  },
  {
   "cell_type": "code",
   "id": "98641134",
   "metadata": {
    "ExecuteTime": {
     "end_time": "2025-02-03T01:09:49.418620Z",
     "start_time": "2025-02-03T01:09:49.414129Z"
    }
   },
   "source": [
    "# This function should return the result of dividing a number by another\n",
    "def safe_divide(a, b):\n",
    "    if b == 0:\n",
    "        return '0 is not a valid number'\n",
    "    return a / b  # Bug: No check for division by zero\n",
    "\n",
    "\n",
    "print(safe_divide(10, 0))  # Expected: Handle the zero division case"
   ],
   "outputs": [
    {
     "name": "stdout",
     "output_type": "stream",
     "text": [
      "0 is not a valid number\n"
     ]
    }
   ],
   "execution_count": 12
  }
 ],
 "metadata": {
  "kernelspec": {
   "display_name": "base",
   "language": "python",
   "name": "python3"
  },
  "language_info": {
   "codemirror_mode": {
    "name": "ipython",
    "version": 3
   },
   "file_extension": ".py",
   "mimetype": "text/x-python",
   "name": "python",
   "nbconvert_exporter": "python",
   "pygments_lexer": "ipython3",
   "version": "3.12.7"
  }
 },
 "nbformat": 4,
 "nbformat_minor": 5
}
